{
  "metadata": {
    "kernelspec": {
      "language": "python",
      "display_name": "Python 3",
      "name": "python3"
    },
    "language_info": {
      "name": "python",
      "version": "3.10.12",
      "mimetype": "text/x-python",
      "codemirror_mode": {
        "name": "ipython",
        "version": 3
      },
      "pygments_lexer": "ipython3",
      "nbconvert_exporter": "python",
      "file_extension": ".py"
    },
    "kaggle": {
      "accelerator": "gpu",
      "dataSources": [
        {
          "sourceId": 5891144,
          "sourceType": "datasetVersion",
          "datasetId": 3345370
        }
      ],
      "dockerImageVersionId": 30822,
      "isInternetEnabled": true,
      "language": "python",
      "sourceType": "notebook",
      "isGpuEnabled": true
    },
    "colab": {
      "name": "yolov8 face detection",
      "provenance": [],
      "include_colab_link": true
    }
  },
  "nbformat_minor": 0,
  "nbformat": 4,
  "cells": [
    {
      "cell_type": "markdown",
      "metadata": {
        "id": "view-in-github",
        "colab_type": "text"
      },
      "source": [
        "<a href=\"https://colab.research.google.com/github/yanglilizhang/Face-Recognition/blob/main/yolov8_face_detection.ipynb\" target=\"_parent\"><img src=\"https://colab.research.google.com/assets/colab-badge.svg\" alt=\"Open In Colab\"/></a>"
      ]
    },
    {
      "source": [
        "# IMPORTANT: RUN THIS CELL IN ORDER TO IMPORT YOUR KAGGLE DATA SOURCES,\n",
        "# THEN FEEL FREE TO DELETE THIS CELL.\n",
        "# NOTE: THIS NOTEBOOK ENVIRONMENT DIFFERS FROM KAGGLE'S PYTHON\n",
        "# ENVIRONMENT SO THERE MAY BE MISSING LIBRARIES USED BY YOUR\n",
        "# NOTEBOOK.\n",
        "import kagglehub\n",
        "fareselmenshawii_face_detection_dataset_path = kagglehub.dataset_download('fareselmenshawii/face-detection-dataset')\n",
        "\n",
        "print('Data source import complete.')\n"
      ],
      "metadata": {
        "id": "PWs2fBXyLOva"
      },
      "cell_type": "code",
      "outputs": [],
      "execution_count": null
    },
    {
      "cell_type": "code",
      "source": [
        "import numpy as np\n",
        "import pandas as pd\n",
        "import os\n",
        "import matplotlib.pyplot as plt\n",
        "import shutil\n",
        "import cv2\n",
        "import random\n"
      ],
      "metadata": {
        "trusted": true,
        "execution": {
          "iopub.status.busy": "2024-12-26T16:20:20.998279Z",
          "iopub.execute_input": "2024-12-26T16:20:20.998623Z",
          "iopub.status.idle": "2024-12-26T16:20:21.288169Z",
          "shell.execute_reply.started": "2024-12-26T16:20:20.998593Z",
          "shell.execute_reply": "2024-12-26T16:20:21.287545Z"
        },
        "id": "3C8UdfsXLOvc"
      },
      "outputs": [],
      "execution_count": null
    },
    {
      "cell_type": "code",
      "source": [
        "import torch"
      ],
      "metadata": {
        "trusted": true,
        "execution": {
          "iopub.status.busy": "2024-12-26T17:36:39.788257Z",
          "iopub.execute_input": "2024-12-26T17:36:39.788573Z",
          "iopub.status.idle": "2024-12-26T17:36:39.791709Z",
          "shell.execute_reply.started": "2024-12-26T17:36:39.788544Z",
          "shell.execute_reply": "2024-12-26T17:36:39.790956Z"
        },
        "id": "Z96EIXdCLOvd"
      },
      "outputs": [],
      "execution_count": null
    },
    {
      "cell_type": "code",
      "source": [
        "cwd = os.getcwd()"
      ],
      "metadata": {
        "trusted": true,
        "execution": {
          "iopub.status.busy": "2024-12-26T16:20:22.873843Z",
          "iopub.execute_input": "2024-12-26T16:20:22.874147Z",
          "iopub.status.idle": "2024-12-26T16:20:22.877866Z",
          "shell.execute_reply.started": "2024-12-26T16:20:22.874125Z",
          "shell.execute_reply": "2024-12-26T16:20:22.876984Z"
        },
        "id": "aipvuuibLOvd"
      },
      "outputs": [],
      "execution_count": null
    },
    {
      "cell_type": "markdown",
      "source": [
        "# Preparing data folder structure"
      ],
      "metadata": {
        "id": "sCOmrHVJLOvd"
      }
    },
    {
      "cell_type": "code",
      "source": [
        "dirs = [\n",
        "    \"dataset/train/images\",\n",
        "    \"dataset/train/labels\",\n",
        "    \"dataset/val/images\",\n",
        "    \"dataset/val/labels\",\n",
        "    \"dataset/test/images\",\n",
        "    \"dataset/test/labels\",\n",
        "]\n",
        "\n",
        "for dir_path in dirs:\n",
        "    path = os.path.join(cwd, dir_path)\n",
        "    os.makedirs(path, exist_ok=True)\n",
        "    print(f\"Created: {path}\")"
      ],
      "metadata": {
        "trusted": true,
        "execution": {
          "iopub.status.busy": "2024-12-26T07:59:05.16306Z",
          "iopub.execute_input": "2024-12-26T07:59:05.163599Z",
          "iopub.status.idle": "2024-12-26T07:59:05.171994Z",
          "shell.execute_reply.started": "2024-12-26T07:59:05.163559Z",
          "shell.execute_reply": "2024-12-26T07:59:05.171064Z"
        },
        "jupyter": {
          "outputs_hidden": true
        },
        "collapsed": true,
        "id": "GHeiBGi5LOve"
      },
      "outputs": [],
      "execution_count": null
    },
    {
      "cell_type": "code",
      "source": [
        "data_path = \"/kaggle/input/face-detection-dataset\""
      ],
      "metadata": {
        "trusted": true,
        "execution": {
          "iopub.status.busy": "2024-12-26T07:59:05.172852Z",
          "iopub.execute_input": "2024-12-26T07:59:05.173106Z",
          "iopub.status.idle": "2024-12-26T07:59:05.184336Z",
          "shell.execute_reply.started": "2024-12-26T07:59:05.173084Z",
          "shell.execute_reply": "2024-12-26T07:59:05.183359Z"
        },
        "id": "V9KfC3SALOvf"
      },
      "outputs": [],
      "execution_count": null
    },
    {
      "cell_type": "markdown",
      "source": [
        "Copy train images and label"
      ],
      "metadata": {
        "id": "CoZMhqfiLOvf"
      }
    },
    {
      "cell_type": "code",
      "source": [
        "train_imgs_src = os.path.join(data_path,\"images\",\"train\")\n",
        "train_labels_src = os.path.join(data_path,\"labels\",\"train\")\n",
        "\n",
        "dest = os.path.join(cwd,\"dataset\",\"train\")\n",
        "\n",
        "train_imgs_list = sorted(os.listdir(train_imgs_src))\n",
        "train_labels_list = sorted(os.listdir(train_labels_src))\n",
        "\n",
        "total = len(train_imgs_list)\n",
        "i=1\n",
        "for img,label in zip(train_imgs_list,train_labels_list):\n",
        "    src_img = os.path.join(train_imgs_src,img)\n",
        "    img_path =  os.path.join(dest,\"images\",img)\n",
        "\n",
        "    src_label = os.path.join(train_labels_src,label)\n",
        "    label_path =  os.path.join(dest,\"labels\",label)\n",
        "\n",
        "    print(f'copying {src_img} to {img_path}')\n",
        "    shutil.copy(src_img,img_path)\n",
        "    print(f'copying {src_label} to {label_path}')\n",
        "    shutil.copy(src_label,label_path)\n",
        "\n",
        "    print(f\"Copied {i} images.\")\n",
        "    i+=1"
      ],
      "metadata": {
        "trusted": true,
        "execution": {
          "iopub.status.busy": "2024-12-26T08:22:39.084091Z",
          "iopub.execute_input": "2024-12-26T08:22:39.084453Z",
          "iopub.status.idle": "2024-12-26T08:23:25.013981Z",
          "shell.execute_reply.started": "2024-12-26T08:22:39.084408Z",
          "shell.execute_reply": "2024-12-26T08:23:25.01285Z"
        },
        "collapsed": true,
        "jupyter": {
          "outputs_hidden": true
        },
        "id": "Ei9zm2IaLOvf"
      },
      "outputs": [],
      "execution_count": null
    },
    {
      "cell_type": "code",
      "source": [
        "len(os.listdir(os.path.join(dest,\"images\"))),len(os.listdir(os.path.join(dest,\"labels\")))"
      ],
      "metadata": {
        "trusted": true,
        "execution": {
          "iopub.status.busy": "2024-12-26T08:23:57.11314Z",
          "iopub.execute_input": "2024-12-26T08:23:57.113606Z",
          "iopub.status.idle": "2024-12-26T08:23:57.135877Z",
          "shell.execute_reply.started": "2024-12-26T08:23:57.113564Z",
          "shell.execute_reply": "2024-12-26T08:23:57.134911Z"
        },
        "jupyter": {
          "source_hidden": true
        },
        "id": "au6LbcJdLOvg"
      },
      "outputs": [],
      "execution_count": null
    },
    {
      "cell_type": "markdown",
      "source": [
        "Split val into val and test 50-50"
      ],
      "metadata": {
        "id": "RlE-3pkTLOvg"
      }
    },
    {
      "cell_type": "code",
      "source": [
        "val_path_imgs = sorted(os.listdir(os.path.join(data_path,\"images\",\"val\")))\n",
        "print(val_path_imgs[:5])\n",
        "val_path_labels = sorted(os.listdir(os.path.join(data_path,\"labels\",\"val\")))\n",
        "print(val_path_labels[:5])"
      ],
      "metadata": {
        "trusted": true,
        "execution": {
          "iopub.status.busy": "2024-12-26T07:59:05.186414Z",
          "iopub.execute_input": "2024-12-26T07:59:05.186726Z",
          "iopub.status.idle": "2024-12-26T07:59:05.255894Z",
          "shell.execute_reply.started": "2024-12-26T07:59:05.186699Z",
          "shell.execute_reply": "2024-12-26T07:59:05.254948Z"
        },
        "id": "LSThOlL4LOvg"
      },
      "outputs": [],
      "execution_count": null
    },
    {
      "cell_type": "code",
      "source": [
        "valimgsList = val_path_imgs[:round(len(val_path_imgs)/2)]\n",
        "testimgsList = val_path_imgs[round(len(val_path_imgs)/2):]\n",
        "\n",
        "vallabelsList = val_path_labels[:round(len(val_path_labels)/2)]\n",
        "testlabelsList = val_path_labels[round(len(val_path_labels)/2):]\n",
        "\n",
        "len(valimgsList),len(testimgsList),len(vallabelsList),len(testlabelsList)"
      ],
      "metadata": {
        "trusted": true,
        "execution": {
          "iopub.status.busy": "2024-12-26T07:59:05.265048Z",
          "iopub.execute_input": "2024-12-26T07:59:05.265443Z",
          "iopub.status.idle": "2024-12-26T07:59:05.28296Z",
          "shell.execute_reply.started": "2024-12-26T07:59:05.265407Z",
          "shell.execute_reply": "2024-12-26T07:59:05.281872Z"
        },
        "id": "ekepZcBWLOvg"
      },
      "outputs": [],
      "execution_count": null
    },
    {
      "cell_type": "code",
      "source": [
        "imgs_src = os.path.join(data_path,\"images\",\"val\")\n",
        "labels_src = os.path.join(data_path,\"labels\",\"val\")\n",
        "\n",
        "dest_val = os.path.join(cwd,\"dataset\",\"val\")\n",
        "dest_test = os.path.join(cwd,\"dataset\",\"test\")\n",
        "\n",
        "def move_val_test(dest,imgs_list,labels_list):\n",
        "    total = len(imgs_list)\n",
        "    i=1\n",
        "    for img,label in zip(imgs_list,labels_list):\n",
        "        src_img = os.path.join(imgs_src,img)\n",
        "        img_path =  os.path.join(dest,\"images\",img)\n",
        "\n",
        "        src_label = os.path.join(labels_src,label)\n",
        "        label_path =  os.path.join(dest,\"labels\",label)\n",
        "\n",
        "        print(f'copying {src_img} to {img_path}')\n",
        "        shutil.copy(src_img,img_path)\n",
        "        print(f'copying {src_label} to {label_path}')\n",
        "        shutil.copy(src_label,label_path)\n",
        "\n",
        "        print(f\"Copied {i} images.\")\n",
        "        i+=1"
      ],
      "metadata": {
        "trusted": true,
        "execution": {
          "iopub.status.busy": "2024-12-26T08:33:49.448102Z",
          "iopub.execute_input": "2024-12-26T08:33:49.448571Z",
          "iopub.status.idle": "2024-12-26T08:33:49.457074Z",
          "shell.execute_reply.started": "2024-12-26T08:33:49.448515Z",
          "shell.execute_reply": "2024-12-26T08:33:49.455841Z"
        },
        "id": "NkXEyfwNLOvh"
      },
      "outputs": [],
      "execution_count": null
    },
    {
      "cell_type": "code",
      "source": [
        "# copy to val\n",
        "move_val_test(dest_val,valimgsList,vallabelsList)\n",
        "\n",
        "# copy to test\n",
        "move_val_test(dest_test,testimgsList,testlabelsList)\n",
        "\n",
        "len(os.listdir(os.path.join(dest_test,\"images\"))),len(os.listdir(os.path.join(dest_test,\"labels\"))), len(os.listdir(os.path.join(dest_val,\"images\"))),len(os.listdir(os.path.join(dest_val,\"labels\"))),\n"
      ],
      "metadata": {
        "trusted": true,
        "execution": {
          "iopub.status.busy": "2024-12-26T08:40:44.196345Z",
          "iopub.execute_input": "2024-12-26T08:40:44.19671Z",
          "iopub.status.idle": "2024-12-26T08:40:54.375128Z",
          "shell.execute_reply.started": "2024-12-26T08:40:44.19668Z",
          "shell.execute_reply": "2024-12-26T08:40:54.374134Z"
        },
        "collapsed": true,
        "jupyter": {
          "outputs_hidden": true
        },
        "id": "5B64vBRQLOvh"
      },
      "outputs": [],
      "execution_count": null
    },
    {
      "cell_type": "code",
      "source": [
        "len(os.listdir(os.path.join(dest_test,\"images\"))),len(os.listdir(os.path.join(dest_test,\"labels\"))), len(os.listdir(os.path.join(dest_val,\"images\"))),len(os.listdir(os.path.join(dest_val,\"labels\"))),\n"
      ],
      "metadata": {
        "trusted": true,
        "execution": {
          "iopub.status.busy": "2024-12-26T08:41:00.981206Z",
          "iopub.execute_input": "2024-12-26T08:41:00.981611Z",
          "iopub.status.idle": "2024-12-26T08:41:00.991674Z",
          "shell.execute_reply.started": "2024-12-26T08:41:00.981567Z",
          "shell.execute_reply": "2024-12-26T08:41:00.990814Z"
        },
        "id": "4_HzZHyxLOvh"
      },
      "outputs": [],
      "execution_count": null
    },
    {
      "cell_type": "markdown",
      "source": [
        "# Prepare config file"
      ],
      "metadata": {
        "id": "iaHjpkNcLOvh"
      }
    },
    {
      "cell_type": "code",
      "source": [
        "ds = os.path.join(cwd,\"dataset\")\n",
        "ln_1=\"#Paths \\n\"\n",
        "ln_2='train: ' +\"'\"+os.path.join(ds,\"train\",\"images\")+\"' \\n\"\n",
        "ln_3='val: ' +\"'\" + os.path.join(ds,\"val\",\"images\")+\"' \\n\"\n",
        "ln_4='test: ' +\"'\" + os.path.join(ds,\"test\",\"images\")+\"' \\n\"\n",
        "ln_5=\"\\n\"\n",
        "ln_6='# Classes\\n'\n",
        "ln_7='names:\\n'\n",
        "ln_8='  0: face'\n",
        "config_lines=[ln_1, ln_2, ln_3, ln_4, ln_5, ln_6, ln_7, ln_8]"
      ],
      "metadata": {
        "trusted": true,
        "execution": {
          "iopub.status.busy": "2024-12-26T11:09:06.401208Z",
          "iopub.execute_input": "2024-12-26T11:09:06.40148Z",
          "iopub.status.idle": "2024-12-26T11:09:06.406256Z",
          "shell.execute_reply.started": "2024-12-26T11:09:06.401459Z",
          "shell.execute_reply": "2024-12-26T11:09:06.405453Z"
        },
        "id": "glT_lSYaLOvi"
      },
      "outputs": [],
      "execution_count": null
    },
    {
      "cell_type": "code",
      "source": [
        "with open(\"config.yaml\", 'w') as f:\n",
        "    f.writelines(config_lines)"
      ],
      "metadata": {
        "trusted": true,
        "execution": {
          "iopub.status.busy": "2024-12-26T11:09:16.597642Z",
          "iopub.execute_input": "2024-12-26T11:09:16.597979Z",
          "iopub.status.idle": "2024-12-26T11:09:16.602006Z",
          "shell.execute_reply.started": "2024-12-26T11:09:16.597952Z",
          "shell.execute_reply": "2024-12-26T11:09:16.601191Z"
        },
        "id": "3o6Znj6qLOvi"
      },
      "outputs": [],
      "execution_count": null
    },
    {
      "cell_type": "code",
      "source": [
        "config_path = os.path.join(cwd,\"config.yaml\")"
      ],
      "metadata": {
        "trusted": true,
        "execution": {
          "iopub.status.busy": "2024-12-26T11:15:29.857767Z",
          "iopub.execute_input": "2024-12-26T11:15:29.858012Z",
          "iopub.status.idle": "2024-12-26T11:15:29.870817Z",
          "shell.execute_reply.started": "2024-12-26T11:15:29.857992Z",
          "shell.execute_reply": "2024-12-26T11:15:29.870023Z"
        },
        "id": "DMcy5E9JLOvi"
      },
      "outputs": [],
      "execution_count": null
    },
    {
      "cell_type": "code",
      "source": [
        "!pip install ultralytics"
      ],
      "metadata": {
        "trusted": true,
        "execution": {
          "iopub.status.busy": "2024-12-26T16:21:47.164766Z",
          "iopub.execute_input": "2024-12-26T16:21:47.165096Z",
          "iopub.status.idle": "2024-12-26T16:21:52.523491Z",
          "shell.execute_reply.started": "2024-12-26T16:21:47.16507Z",
          "shell.execute_reply": "2024-12-26T16:21:52.522434Z"
        },
        "id": "-pc18oNfLOvi"
      },
      "outputs": [],
      "execution_count": null
    },
    {
      "cell_type": "markdown",
      "source": [
        "# Training"
      ],
      "metadata": {
        "id": "ad0-WncqLOvi"
      }
    },
    {
      "cell_type": "code",
      "source": [
        "from ultralytics import YOLO"
      ],
      "metadata": {
        "trusted": true,
        "execution": {
          "iopub.status.busy": "2024-12-26T16:21:52.524714Z",
          "iopub.execute_input": "2024-12-26T16:21:52.525028Z",
          "iopub.status.idle": "2024-12-26T16:21:55.945391Z",
          "shell.execute_reply.started": "2024-12-26T16:21:52.524997Z",
          "shell.execute_reply": "2024-12-26T16:21:55.944469Z"
        },
        "id": "q-9uja2tLOvi"
      },
      "outputs": [],
      "execution_count": null
    },
    {
      "cell_type": "code",
      "source": [
        "# Using YOLO's ptetrained model architecture and weights for training\n",
        "model=YOLO('yolov8s.yaml').load('yolov8s.pt')"
      ],
      "metadata": {
        "trusted": true,
        "execution": {
          "iopub.status.busy": "2024-12-26T16:22:13.469555Z",
          "iopub.execute_input": "2024-12-26T16:22:13.470048Z",
          "iopub.status.idle": "2024-12-26T16:22:13.979826Z",
          "shell.execute_reply.started": "2024-12-26T16:22:13.470017Z",
          "shell.execute_reply": "2024-12-26T16:22:13.979122Z"
        },
        "id": "CZ-mB9W1LOvj"
      },
      "outputs": [],
      "execution_count": null
    },
    {
      "cell_type": "code",
      "source": [
        "model.train(\n",
        "    data= config_path,\n",
        "    epochs=50,\n",
        "    batch=32,\n",
        "    workers=4,\n",
        "    resume=True,\n",
        "    device=0,\n",
        "    name='model_1',  # Custom experiment name\n",
        "    save=True               # Ensure saving is enabled\n",
        ")\n"
      ],
      "metadata": {
        "trusted": true,
        "execution": {
          "iopub.status.busy": "2024-12-26T11:17:42.44037Z",
          "iopub.execute_input": "2024-12-26T11:17:42.44089Z",
          "iopub.status.idle": "2024-12-26T14:17:58.088085Z",
          "shell.execute_reply.started": "2024-12-26T11:17:42.440838Z",
          "shell.execute_reply": "2024-12-26T14:17:58.086507Z"
        },
        "collapsed": true,
        "jupyter": {
          "outputs_hidden": true
        },
        "id": "UhGZz5alLOvj"
      },
      "outputs": [],
      "execution_count": null
    },
    {
      "cell_type": "code",
      "source": [
        "def display_curves(root_path):\n",
        "    plt.figure(figsize=(50,50))\n",
        "\n",
        "    #displaying p curve\n",
        "    p_curve=cv2.imread(os.path.join(root_path,'P_curve.png'))\n",
        "    ax=plt.subplot(5,1,1)\n",
        "    plt.imshow(p_curve)\n",
        "\n",
        "    #displaying r curve\n",
        "    r_curve=cv2.imread(os.path.join(root_path,'R_curve.png'))\n",
        "    ax=plt.subplot(5,1,2)\n",
        "    plt.imshow(r_curve)\n",
        "\n",
        "    #displaying pr curve\n",
        "    pr_curve=cv2.imread(os.path.join(root_path,'PR_curve.png'))\n",
        "    ax=plt.subplot(5,1,3)\n",
        "    plt.imshow(pr_curve)\n",
        "\n",
        "    #displaying f1 curve\n",
        "    f1_curve=cv2.imread(os.path.join(root_path,'F1_curve.png'))\n",
        "    ax=plt.subplot(5,1,4)\n",
        "    plt.imshow(f1_curve)\n",
        "\n",
        "    #displaying confusion matrix\n",
        "    confusion_matrix=cv2.imread(os.path.join(root_path,'confusion_matrix.png'))\n",
        "    ax=plt.subplot(5,1,5)\n",
        "    plt.imshow(confusion_matrix)"
      ],
      "metadata": {
        "trusted": true,
        "execution": {
          "iopub.status.busy": "2024-12-26T14:36:10.954412Z",
          "iopub.execute_input": "2024-12-26T14:36:10.954774Z",
          "iopub.status.idle": "2024-12-26T14:36:10.961534Z",
          "shell.execute_reply.started": "2024-12-26T14:36:10.954744Z",
          "shell.execute_reply": "2024-12-26T14:36:10.960586Z"
        },
        "jupyter": {
          "source_hidden": true
        },
        "id": "a3T-VMh3LOvj"
      },
      "outputs": [],
      "execution_count": null
    },
    {
      "cell_type": "markdown",
      "source": [
        "# Evaluate model"
      ],
      "metadata": {
        "id": "TODgqNjALOvj"
      }
    },
    {
      "cell_type": "code",
      "source": [
        "model_1 = YOLO(\"/kaggle/working/runs/detect/model_12/weights/best.pt\")\n",
        "model_1.info()"
      ],
      "metadata": {
        "trusted": true,
        "execution": {
          "iopub.status.busy": "2024-12-26T16:22:29.069818Z",
          "iopub.execute_input": "2024-12-26T16:22:29.070128Z",
          "iopub.status.idle": "2024-12-26T16:22:29.379168Z",
          "shell.execute_reply.started": "2024-12-26T16:22:29.070106Z",
          "shell.execute_reply": "2024-12-26T16:22:29.378333Z"
        },
        "id": "VDo1yiCLLOvj"
      },
      "outputs": [],
      "execution_count": null
    },
    {
      "cell_type": "code",
      "source": [
        "def evaluate_map50(trainedmodel, data_path, dataset='val', **kwargs):\n",
        "    metrics=trainedmodel.val(data=data_path, split=dataset, **kwargs)\n",
        "    map50=round(metrics.box.map50, 3)\n",
        "    print(\"The mAP of model on {0} dataset is {1}\".format(dataset,map50))\n",
        "    return metrics, map50"
      ],
      "metadata": {
        "trusted": true,
        "execution": {
          "iopub.status.busy": "2024-12-26T16:22:31.723118Z",
          "iopub.execute_input": "2024-12-26T16:22:31.723425Z",
          "iopub.status.idle": "2024-12-26T16:22:31.72732Z",
          "shell.execute_reply.started": "2024-12-26T16:22:31.723404Z",
          "shell.execute_reply": "2024-12-26T16:22:31.726589Z"
        },
        "id": "PLJlakuNLOvj"
      },
      "outputs": [],
      "execution_count": null
    },
    {
      "cell_type": "code",
      "source": [
        "# metrics,map50_val = evaluate_map50(model_1, os.path.join(cwd,\"dataset\"),dataset='val' )\n",
        "metrics,map50_val = evaluate_map50(model_1, config_path,dataset='val' )\n"
      ],
      "metadata": {
        "trusted": true,
        "execution": {
          "iopub.status.busy": "2024-12-26T14:25:21.333354Z",
          "iopub.execute_input": "2024-12-26T14:25:21.333709Z",
          "iopub.status.idle": "2024-12-26T14:25:38.951156Z",
          "shell.execute_reply.started": "2024-12-26T14:25:21.333675Z",
          "shell.execute_reply": "2024-12-26T14:25:38.950274Z"
        },
        "id": "2jK_VkTXLOvk"
      },
      "outputs": [],
      "execution_count": null
    },
    {
      "cell_type": "code",
      "source": [
        "metrics,map50_test2 = evaluate_map50(model_1, config_path,dataset='test',device=\"cuda:0\",plots=True,conf=0.6,iou=0.4)"
      ],
      "metadata": {
        "trusted": true,
        "execution": {
          "iopub.status.busy": "2024-12-26T14:43:36.058877Z",
          "iopub.execute_input": "2024-12-26T14:43:36.059197Z",
          "iopub.status.idle": "2024-12-26T14:43:54.948405Z",
          "shell.execute_reply.started": "2024-12-26T14:43:36.059172Z",
          "shell.execute_reply": "2024-12-26T14:43:54.946895Z"
        },
        "collapsed": true,
        "jupyter": {
          "outputs_hidden": true
        },
        "id": "9gwNjB5PLOvk"
      },
      "outputs": [],
      "execution_count": null
    },
    {
      "cell_type": "code",
      "source": [
        "path = \"/kaggle/working/runs/detect/val8\"\n",
        "display_curves(path)"
      ],
      "metadata": {
        "trusted": true,
        "execution": {
          "iopub.status.busy": "2024-12-26T14:44:37.68284Z",
          "iopub.execute_input": "2024-12-26T14:44:37.683233Z",
          "iopub.status.idle": "2024-12-26T14:44:42.221451Z",
          "shell.execute_reply.started": "2024-12-26T14:44:37.683204Z",
          "shell.execute_reply": "2024-12-26T14:44:42.220511Z"
        },
        "collapsed": true,
        "jupyter": {
          "outputs_hidden": true
        },
        "id": "0XVi-_GBLOvk"
      },
      "outputs": [],
      "execution_count": null
    },
    {
      "cell_type": "code",
      "source": [
        "metrics,map50_test2 = evaluate_map50(model_1, config_path,dataset='test',device=\"cuda:0\",plots=True,conf=0.3,iou=0.8)\n"
      ],
      "metadata": {
        "trusted": true,
        "execution": {
          "iopub.status.busy": "2024-12-26T14:47:34.445247Z",
          "iopub.execute_input": "2024-12-26T14:47:34.445595Z",
          "iopub.status.idle": "2024-12-26T14:47:51.291766Z",
          "shell.execute_reply.started": "2024-12-26T14:47:34.445563Z",
          "shell.execute_reply": "2024-12-26T14:47:51.290849Z"
        },
        "id": "1dfidNHSLOvk"
      },
      "outputs": [],
      "execution_count": null
    },
    {
      "cell_type": "code",
      "source": [
        "path = \"/kaggle/working/runs/detect/val12\"\n",
        "display_curves(path)"
      ],
      "metadata": {
        "trusted": true,
        "execution": {
          "iopub.status.busy": "2024-12-26T14:48:45.169389Z",
          "iopub.execute_input": "2024-12-26T14:48:45.169747Z",
          "iopub.status.idle": "2024-12-26T14:48:50.255757Z",
          "shell.execute_reply.started": "2024-12-26T14:48:45.169718Z",
          "shell.execute_reply": "2024-12-26T14:48:50.254739Z"
        },
        "collapsed": true,
        "jupyter": {
          "outputs_hidden": true
        },
        "id": "l8WswxcoLOvk"
      },
      "outputs": [],
      "execution_count": null
    },
    {
      "cell_type": "markdown",
      "source": [
        "# Plot random images and their results"
      ],
      "metadata": {
        "id": "Bj5ySdr0LOvl"
      }
    },
    {
      "cell_type": "markdown",
      "source": [
        "sample a few random images and plot their results"
      ],
      "metadata": {
        "id": "E8Nc3CSGLOvl"
      }
    },
    {
      "cell_type": "code",
      "source": [
        "imgtestpath = \"/kaggle/working/dataset/test/images\"\n",
        "\n",
        "n = 10\n",
        "test_images = random.sample(os.listdir(imgtestpath), n)\n",
        "\n",
        "plt.figure(figsize=(15, 30))\n",
        "\n",
        "for idx, img_name in enumerate(test_images):\n",
        "    # Full path to the test image\n",
        "    test_image_path = os.path.join(imgtestpath, img_name)\n",
        "\n",
        "    # Read and display the actual image\n",
        "    ax = plt.subplot(n, 2, 2 * idx + 1)\n",
        "    image = cv2.imread(test_image_path)\n",
        "    image_rgb = cv2.cvtColor(image, cv2.COLOR_BGR2RGB)  # Convert BGR to RGB\n",
        "    plt.imshow(image_rgb)\n",
        "    plt.axis('off')\n",
        "    plt.title(\"Actual Image\", fontsize=20)\n",
        "\n",
        "    # Predict using the YOLO model\n",
        "    res = model_1.predict(test_image_path, iou=0.8, conf=0.3)\n",
        "    res_plotted = res[0].plot()  # Get the annotated image from YOLO\n",
        "\n",
        "    # Display image with predictions\n",
        "    ax = plt.subplot(n, 2, 2 * idx + 2)\n",
        "    plt.imshow(cv2.cvtColor(res_plotted, cv2.COLOR_BGR2RGB))\n",
        "    plt.axis('off')\n",
        "    plt.title(\"Image with Predictions\", fontsize=20)\n",
        "\n",
        "# Show the plots\n",
        "plt.tight_layout()\n",
        "plt.show()\n"
      ],
      "metadata": {
        "trusted": true,
        "execution": {
          "iopub.status.busy": "2024-12-26T16:26:52.237838Z",
          "iopub.execute_input": "2024-12-26T16:26:52.238178Z",
          "iopub.status.idle": "2024-12-26T16:26:55.93571Z",
          "shell.execute_reply.started": "2024-12-26T16:26:52.238155Z",
          "shell.execute_reply": "2024-12-26T16:26:55.934508Z"
        },
        "collapsed": true,
        "jupyter": {
          "outputs_hidden": true
        },
        "id": "NkD7IKMRLOvl"
      },
      "outputs": [],
      "execution_count": null
    },
    {
      "cell_type": "markdown",
      "source": [
        "sample a random image and get the cropped version"
      ],
      "metadata": {
        "id": "6tIWj5C0LOvl"
      }
    },
    {
      "cell_type": "code",
      "source": [
        "# random.seed(69)\n",
        "test_image = os.listdir(imgtestpath)[random.randint(0,1000)]\n",
        "test_image_path = os.path.join(imgtestpath, test_image)\n",
        "image = cv2.imread(test_image_path)\n",
        "plt.imshow(cv2.cvtColor(image, cv2.COLOR_BGR2RGB))\n",
        "plt.axis('off')"
      ],
      "metadata": {
        "trusted": true,
        "execution": {
          "iopub.status.busy": "2024-12-26T17:36:04.975491Z",
          "iopub.execute_input": "2024-12-26T17:36:04.975807Z",
          "iopub.status.idle": "2024-12-26T17:36:05.242287Z",
          "shell.execute_reply.started": "2024-12-26T17:36:04.975783Z",
          "shell.execute_reply": "2024-12-26T17:36:05.241396Z"
        },
        "id": "vpyrb06PLOvl"
      },
      "outputs": [],
      "execution_count": null
    },
    {
      "cell_type": "code",
      "source": [
        "results = model_1.predict(test_image_path, iou=0.8, conf=0.3)\n",
        "# Assuming `results` is from your YOLO model inference\n",
        "bounding_boxes = results[0].boxes.xyxy  # Tensor of shape [num_boxes, 4]\n",
        "\n",
        "# Load the image\n",
        "image = cv2.imread(test_image_path)  # BGR format\n",
        "image = cv2.cvtColor(image, cv2.COLOR_BGR2RGB)  # Convert to RGB for display\n",
        "\n",
        "# Loop through bounding boxes and crop\n",
        "for idx, box in enumerate(bounding_boxes):\n",
        "    # Convert tensor coordinates to integers\n",
        "    x_min, y_min, x_max, y_max = map(int, box.tolist())\n",
        "\n",
        "    # Crop the image using slicing\n",
        "    cropped_face = image[y_min:y_max, x_min:x_max]\n",
        "\n",
        "    # Display the cropped face\n",
        "    plt.figure(figsize=(5, 5))\n",
        "    plt.imshow(cropped_face)\n",
        "    plt.axis('off')\n",
        "    plt.title(f\"Cropped Face {idx + 1}\")\n",
        "    plt.show()\n",
        "\n",
        "    # Optionally save the cropped face\n",
        "    save_path = f\"cropped_face_{idx + 1}.jpg\"\n",
        "    cv2.imwrite(save_path, cv2.cvtColor(cropped_face, cv2.COLOR_RGB2BGR))\n"
      ],
      "metadata": {
        "trusted": true,
        "execution": {
          "iopub.status.busy": "2024-12-26T17:36:05.243517Z",
          "iopub.execute_input": "2024-12-26T17:36:05.243797Z",
          "iopub.status.idle": "2024-12-26T17:36:05.429135Z",
          "shell.execute_reply.started": "2024-12-26T17:36:05.243776Z",
          "shell.execute_reply": "2024-12-26T17:36:05.428195Z"
        },
        "id": "0ShGu1mVLOvm"
      },
      "outputs": [],
      "execution_count": null
    },
    {
      "cell_type": "code",
      "source": [
        "model.save(os.path.join(cwd,\"face_detection.pt\"))"
      ],
      "metadata": {
        "trusted": true,
        "execution": {
          "iopub.status.busy": "2024-12-26T17:36:05.430322Z",
          "iopub.execute_input": "2024-12-26T17:36:05.430568Z",
          "iopub.status.idle": "2024-12-26T17:36:05.433775Z",
          "shell.execute_reply.started": "2024-12-26T17:36:05.430547Z",
          "shell.execute_reply": "2024-12-26T17:36:05.43299Z"
        },
        "id": "aWPvh3ucLOvm"
      },
      "outputs": [],
      "execution_count": null
    },
    {
      "cell_type": "code",
      "source": [
        "# function to remove any file to clean up the outputs\n",
        "def remove_path(path):\n",
        "    \"\"\"Remove a file or directory (empty or non-empty).\"\"\"\n",
        "    if os.path.isfile(path):\n",
        "        os.remove(path)  # Remove file\n",
        "        print(f\"File {path} has been removed\")\n",
        "    elif os.path.isdir(path):\n",
        "        try:\n",
        "            os.rmdir(path)  # Try to remove empty directory\n",
        "            print(f\"Empty directory {path} has been removed\")\n",
        "        except OSError:\n",
        "            shutil.rmtree(path)  # Remove non-empty directory\n",
        "            print(f\"Non-empty directory {path} and its contents have been removed\")\n",
        "    else:\n",
        "        print(f\"{path} does not exist or is not a valid file or directory\")\n"
      ],
      "metadata": {
        "trusted": true,
        "execution": {
          "iopub.status.busy": "2024-12-26T17:42:20.37427Z",
          "iopub.execute_input": "2024-12-26T17:42:20.374588Z",
          "iopub.status.idle": "2024-12-26T17:42:20.379052Z",
          "shell.execute_reply.started": "2024-12-26T17:42:20.37456Z",
          "shell.execute_reply": "2024-12-26T17:42:20.378087Z"
        },
        "id": "sxBJigBLLOvm"
      },
      "outputs": [],
      "execution_count": null
    }
  ]
}